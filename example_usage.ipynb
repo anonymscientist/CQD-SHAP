{
  "cells": [
    {
      "cell_type": "markdown",
      "metadata": {
        "id": "view-in-github",
        "colab_type": "text"
      },
      "source": [
        "<a href=\"https://colab.research.google.com/github/anonymscientist/CQD-SHAP/blob/main/example_usage.ipynb\" target=\"_parent\"><img src=\"https://colab.research.google.com/assets/colab-badge.svg\" alt=\"Open In Colab\"/></a>"
      ]
    },
    {
      "cell_type": "markdown",
      "metadata": {
        "id": "DR_x74zrt9Fc"
      },
      "source": [
        "## Prerequisites"
      ]
    },
    {
      "cell_type": "markdown",
      "metadata": {
        "id": "8w-Y0yW4ttkD"
      },
      "source": [
        "### Dataset\n",
        "\n",
        "The datasets used in this project can be downloaded from Google Drive ([Link to Datasets](https://drive.google.com/file/d/1yoZFUAY7DLOj4fC78pIU32SUSAEWRmLw/view?usp=drive_link)) using the following command:"
      ]
    },
    {
      "cell_type": "code",
      "execution_count": 1,
      "metadata": {
        "colab": {
          "base_uri": "https://localhost:8080/"
        },
        "id": "bgnvb_K7fUi1",
        "outputId": "a3164699-53b6-48a3-f086-d3a615ff79f9"
      },
      "outputs": [
        {
          "output_type": "stream",
          "name": "stdout",
          "text": [
            "Downloading...\n",
            "From (original): https://drive.google.com/uc?id=1yoZFUAY7DLOj4fC78pIU32SUSAEWRmLw\n",
            "From (redirected): https://drive.google.com/uc?id=1yoZFUAY7DLOj4fC78pIU32SUSAEWRmLw&confirm=t&uuid=6d8ed812-8cce-415d-9120-3053103aa328\n",
            "To: /content/data.zip\n",
            "100% 152M/152M [00:02<00:00, 67.8MB/s]\n"
          ]
        }
      ],
      "source": [
        "!gdown 1yoZFUAY7DLOj4fC78pIU32SUSAEWRmLw"
      ]
    },
    {
      "cell_type": "markdown",
      "metadata": {
        "id": "lYSULt-7fac-"
      },
      "source": [
        "The extracted files will be saved in the `data/` directory."
      ]
    },
    {
      "cell_type": "code",
      "execution_count": 2,
      "metadata": {
        "id": "2ZTt842yr6ms"
      },
      "outputs": [],
      "source": [
        "!unzip --qq data.zip"
      ]
    },
    {
      "cell_type": "markdown",
      "metadata": {
        "id": "k8ZvjJS-twOO"
      },
      "source": [
        "### Pre-trained Models\n",
        "\n",
        "The pre-trained models can be downloaded from Google Drive ([Link to Models](https://drive.google.com/file/d/1ot3CuVk4DorVu3JiHKzdumzGNaTREAU3/view?usp=drive_link)) using the following command:"
      ]
    },
    {
      "cell_type": "code",
      "execution_count": 3,
      "metadata": {
        "colab": {
          "base_uri": "https://localhost:8080/"
        },
        "id": "eFvM_VRXrbS-",
        "outputId": "de766c7e-5f26-4e12-a954-0f901c320098"
      },
      "outputs": [
        {
          "output_type": "stream",
          "name": "stdout",
          "text": [
            "Downloading...\n",
            "From (original): https://drive.google.com/uc?id=1ot3CuVk4DorVu3JiHKzdumzGNaTREAU3\n",
            "From (redirected): https://drive.google.com/uc?id=1ot3CuVk4DorVu3JiHKzdumzGNaTREAU3&confirm=t&uuid=a7056398-f991-428a-9d25-cfc9fec90c9e\n",
            "To: /content/models.zip\n",
            "100% 1.16G/1.16G [00:11<00:00, 102MB/s]\n"
          ]
        }
      ],
      "source": [
        "!gdown 1ot3CuVk4DorVu3JiHKzdumzGNaTREAU3"
      ]
    },
    {
      "cell_type": "markdown",
      "metadata": {
        "id": "aGTtGauCfac_"
      },
      "source": [
        "The torch model files will be saved in the `models/` directory."
      ]
    },
    {
      "cell_type": "code",
      "execution_count": 4,
      "metadata": {
        "id": "4aBQfIcKr_AG"
      },
      "outputs": [],
      "source": [
        "!unzip --qq models.zip"
      ]
    },
    {
      "cell_type": "markdown",
      "metadata": {
        "id": "Qnk5yGuGty9L"
      },
      "source": [
        "### CQD-SHAP Implementation\n",
        "\n",
        "Now, we can clone the CQD-SHAP repository:\n"
      ]
    },
    {
      "cell_type": "code",
      "execution_count": 5,
      "metadata": {
        "colab": {
          "base_uri": "https://localhost:8080/"
        },
        "id": "IFOPdb8xsCYU",
        "outputId": "14345e75-8c53-48ec-ea59-f65d6977b224"
      },
      "outputs": [
        {
          "output_type": "stream",
          "name": "stdout",
          "text": [
            "Cloning into 'CQD-SHAP'...\n",
            "remote: Enumerating objects: 219, done.\u001b[K\n",
            "remote: Counting objects: 100% (48/48), done.\u001b[K\n",
            "remote: Compressing objects: 100% (36/36), done.\u001b[K\n",
            "remote: Total 219 (delta 23), reused 30 (delta 12), pack-reused 171 (from 3)\u001b[K\n",
            "Receiving objects: 100% (219/219), 119.93 MiB | 23.73 MiB/s, done.\n",
            "Resolving deltas: 100% (47/47), done.\n"
          ]
        }
      ],
      "source": [
        "!git clone https://github.com/anonymscientist/CQD-SHAP"
      ]
    },
    {
      "cell_type": "markdown",
      "metadata": {
        "id": "1IjpG6nefadB"
      },
      "source": [
        "We move all the files in `CQD-SHAP/` to the current directory:"
      ]
    },
    {
      "cell_type": "code",
      "execution_count": 6,
      "metadata": {
        "id": "B6YvqqD_sLmo"
      },
      "outputs": [],
      "source": [
        "!mv CQD-SHAP/* ."
      ]
    },
    {
      "cell_type": "code",
      "execution_count": 7,
      "metadata": {
        "id": "0uHXplDCt6IR"
      },
      "outputs": [],
      "source": [
        "from symbolic_torch import SymbolicReasoning\n",
        "from xcqa_torch import XCQA\n",
        "from utils import get_num_atoms, get_query_file_paths, setup_dataset_and_graphs, load_query_datasets, load_all_queries, check_missing_link, compute_rank\n",
        "from tqdm import tqdm\n",
        "from shapley import shapley_value\n",
        "import random\n",
        "from query import human_readable\n",
        "random.seed(42)"
      ]
    },
    {
      "cell_type": "markdown",
      "metadata": {
        "id": "oGEol6z0t19-"
      },
      "source": [
        "## Usage\n",
        "\n",
        "The following example demonstrates how to use the CQD-SHAP implementation for a sample query in the FB15k-237 dataset.\n",
        "\n",
        "If you want to use the NELL995 dataset, please change the following variables in the code:\n",
        "- `data_dir` = `\"data/NELL\"`\n",
        "- `model_path` = `\"models/NELL-model-rank-1000-epoch-100-1602499096.pt\"`\n",
        "\n",
        "You can also set your desired value for the hyperparameter `k` in the code."
      ]
    },
    {
      "cell_type": "code",
      "execution_count": 8,
      "metadata": {
        "id": "QIpN4B8Wsaak"
      },
      "outputs": [],
      "source": [
        "data_dir = \"data/FB15k-237\"\n",
        "k = 10\n",
        "t_norm, t_conorm = \"prod\", \"prod\"\n",
        "model_path = \"models/FB15k-237-model-rank-1000-epoch-100-1602508358.pt\""
      ]
    },
    {
      "cell_type": "markdown",
      "metadata": {
        "id": "Ea0uGsBafadC"
      },
      "source": [
        "Let's load the dataset, training and validation graphs."
      ]
    },
    {
      "cell_type": "code",
      "execution_count": 9,
      "metadata": {
        "colab": {
          "base_uri": "https://localhost:8080/"
        },
        "id": "6ycNTaoksclb",
        "outputId": "487f910f-ac9a-4699-fd50-989e6db04856"
      },
      "outputs": [
        {
          "output_type": "stream",
          "name": "stdout",
          "text": [
            "Loaded 14505 nodes from data/FB15k-237/ind2ent.pkl.\n",
            "Loaded 474 relations from data/FB15k-237/ind2rel.pkl.\n",
            "Loaded 14951 node titles from data/FB15k-237/extra/entity2text.txt.\n",
            "Loaded 544230 edges from data/FB15k-237/train.txt, skipped 0 edges due to missing nodes or relations.\n",
            "Loaded 579300 edges from data/FB15k-237/valid.txt, skipped 0 edges due to missing nodes or relations.\n"
          ]
        }
      ],
      "source": [
        "dataset, graph_train, graph_valid = setup_dataset_and_graphs(data_dir)"
      ]
    },
    {
      "cell_type": "markdown",
      "metadata": {
        "id": "qP3Rp3rwfadC"
      },
      "source": [
        "To build the test graph, we need to load the test triples from the dataset and append them to the validation graph."
      ]
    },
    {
      "cell_type": "code",
      "execution_count": 10,
      "metadata": {
        "colab": {
          "base_uri": "https://localhost:8080/"
        },
        "id": "nnkZy3kWsdwU",
        "outputId": "8b8235c8-d914-40e4-81d8-acb3d2fbcf9b"
      },
      "outputs": [
        {
          "output_type": "stream",
          "name": "stdout",
          "text": [
            "Loaded 620232 edges from data/FB15k-237/test.txt, skipped 0 edges due to missing nodes or relations.\n"
          ]
        }
      ],
      "source": [
        "from graph import Dataset, Graph\n",
        "\n",
        "graph_test = Graph(dataset)\n",
        "for edge in graph_valid.get_edges():\n",
        "    graph_test.add_edge(edge.get_head().get_name(), edge.get_name(), edge.get_tail().get_name(), skip_missing=False, add_reverse=False)\n",
        "graph_test.load_triples(f'{data_dir}/test.txt', skip_missing=False, add_reverse=True)"
      ]
    },
    {
      "cell_type": "markdown",
      "metadata": {
        "id": "ZGLw0IgjfadC"
      },
      "source": [
        "Our main symbolic reasoner would be based on the validation graph. However, we also define another symbolic reasoner based on the test graph in case we want to check complete graph."
      ]
    },
    {
      "cell_type": "code",
      "execution_count": 11,
      "metadata": {
        "id": "6BirPdUAsf24"
      },
      "outputs": [],
      "source": [
        "# when evaluating on test queries, we use the validation graph for symbolic reasoning\n",
        "reasoner = SymbolicReasoning(graph_valid, logging=False)\n",
        "reasoner_test = SymbolicReasoning(graph_test, logging=False)"
      ]
    },
    {
      "cell_type": "markdown",
      "metadata": {
        "id": "tOG9pPt0fadD"
      },
      "source": [
        "We can load the queries using the following code (here we load all the `test` queries):"
      ]
    },
    {
      "cell_type": "code",
      "execution_count": 12,
      "metadata": {
        "id": "gKvunolSshrs"
      },
      "outputs": [],
      "source": [
        "query_dataset, query_dataset_hard = load_all_queries(dataset, data_dir, \"test\")"
      ]
    },
    {
      "cell_type": "markdown",
      "metadata": {
        "id": "ARbEpCKtfadD"
      },
      "source": [
        "Class `XCQA` helps us to execute a partial query and get the answers. We define an instance of this class by defining the reasoner which should be used in symbolic parts, the dataset, and the path to the neural model."
      ]
    },
    {
      "cell_type": "code",
      "execution_count": 13,
      "metadata": {
        "colab": {
          "base_uri": "https://localhost:8080/"
        },
        "id": "hIEyLZstskDD",
        "outputId": "6b74e82b-ba61-4af8-d873-66003bb31b72"
      },
      "outputs": [
        {
          "output_type": "stream",
          "name": "stdout",
          "text": [
            "ComplEx(\n",
            "  (embeddings): ModuleList(\n",
            "    (0): Embedding(14505, 2000, sparse=True)\n",
            "    (1): Embedding(474, 2000, sparse=True)\n",
            "  )\n",
            ")\n"
          ]
        }
      ],
      "source": [
        "xcqa = XCQA(symbolic=reasoner, dataset=dataset, logging=False, model_path=model_path)"
      ]
    },
    {
      "cell_type": "markdown",
      "metadata": {
        "id": "R05UdoajfadD"
      },
      "source": [
        "Just as an example, we will pick one query from `2p` query type. You can change it to any other query type (e.g., `2p`, `2u`, `2i`, `3i`, `3p`, `up` for $2u1p$, `ip` for $2i1p$, and `pi` for $1p2i$) and any other index."
      ]
    },
    {
      "cell_type": "code",
      "execution_count": 14,
      "metadata": {
        "id": "eioM90x3sltr"
      },
      "outputs": [],
      "source": [
        "query_type = \"2p\"\n",
        "num_atoms = get_num_atoms(query_type)\n",
        "queries = query_dataset.get_queries(query_type)\n",
        "queries_hard = query_dataset_hard.get_queries(query_type)"
      ]
    },
    {
      "cell_type": "code",
      "execution_count": 15,
      "metadata": {
        "colab": {
          "base_uri": "https://localhost:8080/"
        },
        "id": "fJZWFf9ltVDY",
        "outputId": "f0ba09c9-3477-4df9-adef-fcdcea364e4b"
      },
      "outputs": [
        {
          "output_type": "execute_result",
          "data": {
            "text/plain": [
              "Query(type=2p, query=((14349, (104, 40)),), answer=[2592, 9566, 3779, 10596, 1000, 9866, 7157, 4406, 3896, 6073, 3128, 5118])"
            ]
          },
          "metadata": {},
          "execution_count": 15
        }
      ],
      "source": [
        "idx = 2893\n",
        "query_complete = queries[idx]\n",
        "query_hard = queries_hard[idx]\n",
        "hard_answers = query_hard.get_answer()\n",
        "all_answers = set(query_complete.get_answer())\n",
        "easy_answers = [ans for ans in all_answers if ans not in hard_answers]\n",
        "query_hard"
      ]
    },
    {
      "cell_type": "code",
      "execution_count": 16,
      "metadata": {
        "colab": {
          "base_uri": "https://localhost:8080/"
        },
        "id": "AiEd5t5Ctp32",
        "outputId": "8653dd76-cc7c-4b21-ece0-1ef1137ccbd8"
      },
      "outputs": [
        {
          "output_type": "stream",
          "name": "stdout",
          "text": [
            "Query:\n",
            "Dixieland\t--/music/genre/parent_genre-->\tV\n",
            "V\t--/music/genre/artists-->\t?\n",
            "\n",
            "Answer Set (?): \n",
            "['Miles Davis', 'Joss Stone', 'Chris Thile', 'Bill Evans', 'Corinne Bailey Rae', 'Toni Braxton', 'Ray Manzarek', 'Natalie Cole', 'Ringo Sheena', 'Bill Wyman', 'Amanda Lear', 'Tom Waits']\n"
          ]
        }
      ],
      "source": [
        "human_readable(query_hard, dataset)"
      ]
    },
    {
      "cell_type": "code",
      "execution_count": 17,
      "metadata": {
        "colab": {
          "base_uri": "https://localhost:8080/"
        },
        "id": "JJTxotG0trD6",
        "outputId": "b9583975-4bf7-4bb7-c8a6-5b61b6bdd2be"
      },
      "outputs": [
        {
          "output_type": "stream",
          "name": "stdout",
          "text": [
            "Query:\n",
            "Dixieland\t--/music/genre/parent_genre-->\tV\n",
            "V\t--/music/genre/artists-->\t?\n",
            "\n",
            "Answer Set (?): \n",
            "['Randy Jackson', 'Herb Alpert', 'John Williams', 'Lyle Lovett', 'Miles Davis', 'Thelonious Monk', 'Jerry Garcia', 'Kenny Rogers', 'Billie Holiday', 'Charlie Parker', 'Prince', 'Pat Metheny', 'Roy Haynes', 'Jamie Cullum', 'Freddie Hubbard', 'John Coltrane', 'Amanda Lear', 'Jaco Pastorius', 'James Brown', 'Beastie Boys', 'David Sylvian', 'Mike Patton', 'Steve Winwood', 'Steve Jordan', 'Linda Ronstadt', 'George Michael', 'Dave Brubeck', 'Jon Lord', 'Sonny Rollins', 'Oingo Boingo', 'Henry Mancini', 'Walter Becker', 'Joshua Redman', 'Ray Charles', 'Norah Jones', 'Diana Ross', 'Toni Braxton', 'Keith Jarrett', 'Sting', 'Earth, Wind & Fire', 'Big band', 'Marcus Miller', 'Bruce Hornsby', 'Johnny Mandel', 'Jill Scott', 'Christina Aguilera', 'Curtis Mayfield', 'Ennio Morricone', 'Adele', 'Mamoru Miyano', 'Chris Botti', 'Humberto Gatica', 'The Mothers of Invention', 'Lalo Schifrin', 'Chris Thile', 'Phish', 'LeAnn Rimes', 'Billy Joel', 'Edgar Meyer', 'Bruno Mars', 'Omarion', 'Frank Sinatra', 'Marvin Gaye', 'Meshell Ndegeocello', 'Chet Atkins', 'Ella Fitzgerald', 'George Benson', 'Bill Bruford', 'Patti LaBelle', 'Jimmy Page', 'Marianne Faithfull', 'Matt Chamberlain', 'Steve Howe', 'Andy Williams', 'Kool & the Gang', 'Cee Lo Green', 'Mark Isham', 'Jack Bruce', 'John Zorn', 'Etta James', 'Itzhak Perlman', 'Joe Jackson', 'Pat Metheny Group', 'Robert Wachtel', 'Allan Holdsworth', 'Sheila E.', 'Outkast', 'Gil Scott-Heron', 'Tony Bennett', 'Tori Amos', 'Van Morrison', 'Lena Horne', 'Terence Blanchard', 'Natalie Cole', 'Ringo Sheena', 'Cy Coleman', 'Buckethead', 'Charles Mingus', 'Bing Crosby', 'Wynton Marsalis', 'Stewart Copeland', 'Phil Collins', 'Chick Corea', 'Amy Winehouse', 'The Roots', 'Joss Stone', 'Bill Evans', 'Michael Brecker', 'Branford Marsalis', 'Jack Nitzsche', 'Erykah Badu', 'Steely Dan', 'Tony Levin', 'Diana Krall', 'Joni Mitchell', 'Louis Armstrong', 'Rory Gallagher', 'Bobby McFerrin', 'Angelo Badalamenti', 'Frank Zappa', 'Barbra Streisand', 'Herbie Hancock', 'Serge Gainsbourg', 'B.B. King', 'David Sanborn', 'Pete Townshend', 'Queen Latifah', 'Aretha Franklin', 'Stevie Ray Vaughan', 'Brian Tyler', 'Bobby Darin', 'Stevie Wonder', 'Simply Red', 'Chaka Khan', 'Dave Matthews Band', 'Vanessa L. Williams', 'Bill Wyman', 'Nina Simone', 'Walter Murphy', 'Quincy Jones', 'Alicia Keys', 'David Grisman', 'Corinne Bailey Rae', 'Jake Shimabukuro', 'Stanley Clarke', 'Ray Manzarek', 'Richard Wright', 'Everything but the Girl', 'Carole King', 'Tom Waits']\n"
          ]
        }
      ],
      "source": [
        "human_readable(query_complete, dataset)"
      ]
    },
    {
      "cell_type": "code",
      "execution_count": 18,
      "metadata": {
        "id": "NIfR8Iiitd9P"
      },
      "outputs": [],
      "source": [
        "anchor = query_hard.get_query()[0][0]\n",
        "relation1 = query_hard.get_query()[0][1][0]\n",
        "relation2 = query_hard.get_query()[0][1][1]\n",
        "target1 = 2592 # Miles Davis\n",
        "target2 = 10596 # Bill Evans"
      ]
    },
    {
      "cell_type": "markdown",
      "metadata": {
        "id": "h-wysLXSfadF"
      },
      "source": [
        "We first execute the query only by the neural model (`coalition=[1, 1]`)."
      ]
    },
    {
      "cell_type": "code",
      "execution_count": 19,
      "metadata": {
        "colab": {
          "base_uri": "https://localhost:8080/",
          "height": 424
        },
        "id": "O3oDum2dxIN5",
        "outputId": "e5c14e35-8b9d-4db9-d3f1-88fc498c211a"
      },
      "outputs": [
        {
          "output_type": "execute_result",
          "data": {
            "text/plain": [
              "       scores_0  scores_1  variable_0  final_score                      title  \\\n",
              "9086   5.882746  9.785547       14349    57.565891            Louis Armstrong   \n",
              "8522   5.882746  9.508564       14349    55.936470                Bing Crosby   \n",
              "2653   6.066570  8.999807        6709    54.597965  London Symphony Orchestra   \n",
              "8053   6.066570  8.891864        6709    53.943115               Harry Warren   \n",
              "8071   6.066570  8.600492        6709    52.175488              Barry Manilow   \n",
              "...         ...       ...         ...          ...                        ...   \n",
              "14216  4.570889 -1.153239         529    -5.271328      African popular music   \n",
              "14462  4.587668 -1.153908        5629    -5.293747                  Wehrmacht   \n",
              "11624  4.570889 -1.178043         529    -5.384703                  Announcer   \n",
              "14504  4.570889 -1.182587         529    -5.405474        Modern architecture   \n",
              "7081   6.066570 -0.955329        6709    -5.795568            Spokesperson-GB   \n",
              "\n",
              "       is_easy_answer  is_hard_answer variable_title  \n",
              "9086             True           False      Dixieland  \n",
              "8522             True           False      Dixieland  \n",
              "2653            False           False  Popular music  \n",
              "8053            False           False  Popular music  \n",
              "8071            False           False  Popular music  \n",
              "...               ...             ...            ...  \n",
              "14216           False           False      Pop music  \n",
              "14462           False           False     Vocal jazz  \n",
              "11624           False           False      Pop music  \n",
              "14504           False           False      Pop music  \n",
              "7081            False           False  Popular music  \n",
              "\n",
              "[14505 rows x 8 columns]"
            ],
            "text/html": [
              "\n",
              "  <div id=\"df-44b1fb11-ebf3-4b91-b3d0-eab81a340ba1\" class=\"colab-df-container\">\n",
              "    <div>\n",
              "<style scoped>\n",
              "    .dataframe tbody tr th:only-of-type {\n",
              "        vertical-align: middle;\n",
              "    }\n",
              "\n",
              "    .dataframe tbody tr th {\n",
              "        vertical-align: top;\n",
              "    }\n",
              "\n",
              "    .dataframe thead th {\n",
              "        text-align: right;\n",
              "    }\n",
              "</style>\n",
              "<table border=\"1\" class=\"dataframe\">\n",
              "  <thead>\n",
              "    <tr style=\"text-align: right;\">\n",
              "      <th></th>\n",
              "      <th>scores_0</th>\n",
              "      <th>scores_1</th>\n",
              "      <th>variable_0</th>\n",
              "      <th>final_score</th>\n",
              "      <th>title</th>\n",
              "      <th>is_easy_answer</th>\n",
              "      <th>is_hard_answer</th>\n",
              "      <th>variable_title</th>\n",
              "    </tr>\n",
              "  </thead>\n",
              "  <tbody>\n",
              "    <tr>\n",
              "      <th>9086</th>\n",
              "      <td>5.882746</td>\n",
              "      <td>9.785547</td>\n",
              "      <td>14349</td>\n",
              "      <td>57.565891</td>\n",
              "      <td>Louis Armstrong</td>\n",
              "      <td>True</td>\n",
              "      <td>False</td>\n",
              "      <td>Dixieland</td>\n",
              "    </tr>\n",
              "    <tr>\n",
              "      <th>8522</th>\n",
              "      <td>5.882746</td>\n",
              "      <td>9.508564</td>\n",
              "      <td>14349</td>\n",
              "      <td>55.936470</td>\n",
              "      <td>Bing Crosby</td>\n",
              "      <td>True</td>\n",
              "      <td>False</td>\n",
              "      <td>Dixieland</td>\n",
              "    </tr>\n",
              "    <tr>\n",
              "      <th>2653</th>\n",
              "      <td>6.066570</td>\n",
              "      <td>8.999807</td>\n",
              "      <td>6709</td>\n",
              "      <td>54.597965</td>\n",
              "      <td>London Symphony Orchestra</td>\n",
              "      <td>False</td>\n",
              "      <td>False</td>\n",
              "      <td>Popular music</td>\n",
              "    </tr>\n",
              "    <tr>\n",
              "      <th>8053</th>\n",
              "      <td>6.066570</td>\n",
              "      <td>8.891864</td>\n",
              "      <td>6709</td>\n",
              "      <td>53.943115</td>\n",
              "      <td>Harry Warren</td>\n",
              "      <td>False</td>\n",
              "      <td>False</td>\n",
              "      <td>Popular music</td>\n",
              "    </tr>\n",
              "    <tr>\n",
              "      <th>8071</th>\n",
              "      <td>6.066570</td>\n",
              "      <td>8.600492</td>\n",
              "      <td>6709</td>\n",
              "      <td>52.175488</td>\n",
              "      <td>Barry Manilow</td>\n",
              "      <td>False</td>\n",
              "      <td>False</td>\n",
              "      <td>Popular music</td>\n",
              "    </tr>\n",
              "    <tr>\n",
              "      <th>...</th>\n",
              "      <td>...</td>\n",
              "      <td>...</td>\n",
              "      <td>...</td>\n",
              "      <td>...</td>\n",
              "      <td>...</td>\n",
              "      <td>...</td>\n",
              "      <td>...</td>\n",
              "      <td>...</td>\n",
              "    </tr>\n",
              "    <tr>\n",
              "      <th>14216</th>\n",
              "      <td>4.570889</td>\n",
              "      <td>-1.153239</td>\n",
              "      <td>529</td>\n",
              "      <td>-5.271328</td>\n",
              "      <td>African popular music</td>\n",
              "      <td>False</td>\n",
              "      <td>False</td>\n",
              "      <td>Pop music</td>\n",
              "    </tr>\n",
              "    <tr>\n",
              "      <th>14462</th>\n",
              "      <td>4.587668</td>\n",
              "      <td>-1.153908</td>\n",
              "      <td>5629</td>\n",
              "      <td>-5.293747</td>\n",
              "      <td>Wehrmacht</td>\n",
              "      <td>False</td>\n",
              "      <td>False</td>\n",
              "      <td>Vocal jazz</td>\n",
              "    </tr>\n",
              "    <tr>\n",
              "      <th>11624</th>\n",
              "      <td>4.570889</td>\n",
              "      <td>-1.178043</td>\n",
              "      <td>529</td>\n",
              "      <td>-5.384703</td>\n",
              "      <td>Announcer</td>\n",
              "      <td>False</td>\n",
              "      <td>False</td>\n",
              "      <td>Pop music</td>\n",
              "    </tr>\n",
              "    <tr>\n",
              "      <th>14504</th>\n",
              "      <td>4.570889</td>\n",
              "      <td>-1.182587</td>\n",
              "      <td>529</td>\n",
              "      <td>-5.405474</td>\n",
              "      <td>Modern architecture</td>\n",
              "      <td>False</td>\n",
              "      <td>False</td>\n",
              "      <td>Pop music</td>\n",
              "    </tr>\n",
              "    <tr>\n",
              "      <th>7081</th>\n",
              "      <td>6.066570</td>\n",
              "      <td>-0.955329</td>\n",
              "      <td>6709</td>\n",
              "      <td>-5.795568</td>\n",
              "      <td>Spokesperson-GB</td>\n",
              "      <td>False</td>\n",
              "      <td>False</td>\n",
              "      <td>Popular music</td>\n",
              "    </tr>\n",
              "  </tbody>\n",
              "</table>\n",
              "<p>14505 rows × 8 columns</p>\n",
              "</div>\n",
              "    <div class=\"colab-df-buttons\">\n",
              "\n",
              "  <div class=\"colab-df-container\">\n",
              "    <button class=\"colab-df-convert\" onclick=\"convertToInteractive('df-44b1fb11-ebf3-4b91-b3d0-eab81a340ba1')\"\n",
              "            title=\"Convert this dataframe to an interactive table.\"\n",
              "            style=\"display:none;\">\n",
              "\n",
              "  <svg xmlns=\"http://www.w3.org/2000/svg\" height=\"24px\" viewBox=\"0 -960 960 960\">\n",
              "    <path d=\"M120-120v-720h720v720H120Zm60-500h600v-160H180v160Zm220 220h160v-160H400v160Zm0 220h160v-160H400v160ZM180-400h160v-160H180v160Zm440 0h160v-160H620v160ZM180-180h160v-160H180v160Zm440 0h160v-160H620v160Z\"/>\n",
              "  </svg>\n",
              "    </button>\n",
              "\n",
              "  <style>\n",
              "    .colab-df-container {\n",
              "      display:flex;\n",
              "      gap: 12px;\n",
              "    }\n",
              "\n",
              "    .colab-df-convert {\n",
              "      background-color: #E8F0FE;\n",
              "      border: none;\n",
              "      border-radius: 50%;\n",
              "      cursor: pointer;\n",
              "      display: none;\n",
              "      fill: #1967D2;\n",
              "      height: 32px;\n",
              "      padding: 0 0 0 0;\n",
              "      width: 32px;\n",
              "    }\n",
              "\n",
              "    .colab-df-convert:hover {\n",
              "      background-color: #E2EBFA;\n",
              "      box-shadow: 0px 1px 2px rgba(60, 64, 67, 0.3), 0px 1px 3px 1px rgba(60, 64, 67, 0.15);\n",
              "      fill: #174EA6;\n",
              "    }\n",
              "\n",
              "    .colab-df-buttons div {\n",
              "      margin-bottom: 4px;\n",
              "    }\n",
              "\n",
              "    [theme=dark] .colab-df-convert {\n",
              "      background-color: #3B4455;\n",
              "      fill: #D2E3FC;\n",
              "    }\n",
              "\n",
              "    [theme=dark] .colab-df-convert:hover {\n",
              "      background-color: #434B5C;\n",
              "      box-shadow: 0px 1px 3px 1px rgba(0, 0, 0, 0.15);\n",
              "      filter: drop-shadow(0px 1px 2px rgba(0, 0, 0, 0.3));\n",
              "      fill: #FFFFFF;\n",
              "    }\n",
              "  </style>\n",
              "\n",
              "    <script>\n",
              "      const buttonEl =\n",
              "        document.querySelector('#df-44b1fb11-ebf3-4b91-b3d0-eab81a340ba1 button.colab-df-convert');\n",
              "      buttonEl.style.display =\n",
              "        google.colab.kernel.accessAllowed ? 'block' : 'none';\n",
              "\n",
              "      async function convertToInteractive(key) {\n",
              "        const element = document.querySelector('#df-44b1fb11-ebf3-4b91-b3d0-eab81a340ba1');\n",
              "        const dataTable =\n",
              "          await google.colab.kernel.invokeFunction('convertToInteractive',\n",
              "                                                    [key], {});\n",
              "        if (!dataTable) return;\n",
              "\n",
              "        const docLinkHtml = 'Like what you see? Visit the ' +\n",
              "          '<a target=\"_blank\" href=https://colab.research.google.com/notebooks/data_table.ipynb>data table notebook</a>'\n",
              "          + ' to learn more about interactive tables.';\n",
              "        element.innerHTML = '';\n",
              "        dataTable['output_type'] = 'display_data';\n",
              "        await google.colab.output.renderOutput(dataTable, element);\n",
              "        const docLink = document.createElement('div');\n",
              "        docLink.innerHTML = docLinkHtml;\n",
              "        element.appendChild(docLink);\n",
              "      }\n",
              "    </script>\n",
              "  </div>\n",
              "\n",
              "\n",
              "    <div id=\"df-11485562-c435-4c5b-a5f0-c616fa2876fe\">\n",
              "      <button class=\"colab-df-quickchart\" onclick=\"quickchart('df-11485562-c435-4c5b-a5f0-c616fa2876fe')\"\n",
              "                title=\"Suggest charts\"\n",
              "                style=\"display:none;\">\n",
              "\n",
              "<svg xmlns=\"http://www.w3.org/2000/svg\" height=\"24px\"viewBox=\"0 0 24 24\"\n",
              "     width=\"24px\">\n",
              "    <g>\n",
              "        <path d=\"M19 3H5c-1.1 0-2 .9-2 2v14c0 1.1.9 2 2 2h14c1.1 0 2-.9 2-2V5c0-1.1-.9-2-2-2zM9 17H7v-7h2v7zm4 0h-2V7h2v10zm4 0h-2v-4h2v4z\"/>\n",
              "    </g>\n",
              "</svg>\n",
              "      </button>\n",
              "\n",
              "<style>\n",
              "  .colab-df-quickchart {\n",
              "      --bg-color: #E8F0FE;\n",
              "      --fill-color: #1967D2;\n",
              "      --hover-bg-color: #E2EBFA;\n",
              "      --hover-fill-color: #174EA6;\n",
              "      --disabled-fill-color: #AAA;\n",
              "      --disabled-bg-color: #DDD;\n",
              "  }\n",
              "\n",
              "  [theme=dark] .colab-df-quickchart {\n",
              "      --bg-color: #3B4455;\n",
              "      --fill-color: #D2E3FC;\n",
              "      --hover-bg-color: #434B5C;\n",
              "      --hover-fill-color: #FFFFFF;\n",
              "      --disabled-bg-color: #3B4455;\n",
              "      --disabled-fill-color: #666;\n",
              "  }\n",
              "\n",
              "  .colab-df-quickchart {\n",
              "    background-color: var(--bg-color);\n",
              "    border: none;\n",
              "    border-radius: 50%;\n",
              "    cursor: pointer;\n",
              "    display: none;\n",
              "    fill: var(--fill-color);\n",
              "    height: 32px;\n",
              "    padding: 0;\n",
              "    width: 32px;\n",
              "  }\n",
              "\n",
              "  .colab-df-quickchart:hover {\n",
              "    background-color: var(--hover-bg-color);\n",
              "    box-shadow: 0 1px 2px rgba(60, 64, 67, 0.3), 0 1px 3px 1px rgba(60, 64, 67, 0.15);\n",
              "    fill: var(--button-hover-fill-color);\n",
              "  }\n",
              "\n",
              "  .colab-df-quickchart-complete:disabled,\n",
              "  .colab-df-quickchart-complete:disabled:hover {\n",
              "    background-color: var(--disabled-bg-color);\n",
              "    fill: var(--disabled-fill-color);\n",
              "    box-shadow: none;\n",
              "  }\n",
              "\n",
              "  .colab-df-spinner {\n",
              "    border: 2px solid var(--fill-color);\n",
              "    border-color: transparent;\n",
              "    border-bottom-color: var(--fill-color);\n",
              "    animation:\n",
              "      spin 1s steps(1) infinite;\n",
              "  }\n",
              "\n",
              "  @keyframes spin {\n",
              "    0% {\n",
              "      border-color: transparent;\n",
              "      border-bottom-color: var(--fill-color);\n",
              "      border-left-color: var(--fill-color);\n",
              "    }\n",
              "    20% {\n",
              "      border-color: transparent;\n",
              "      border-left-color: var(--fill-color);\n",
              "      border-top-color: var(--fill-color);\n",
              "    }\n",
              "    30% {\n",
              "      border-color: transparent;\n",
              "      border-left-color: var(--fill-color);\n",
              "      border-top-color: var(--fill-color);\n",
              "      border-right-color: var(--fill-color);\n",
              "    }\n",
              "    40% {\n",
              "      border-color: transparent;\n",
              "      border-right-color: var(--fill-color);\n",
              "      border-top-color: var(--fill-color);\n",
              "    }\n",
              "    60% {\n",
              "      border-color: transparent;\n",
              "      border-right-color: var(--fill-color);\n",
              "    }\n",
              "    80% {\n",
              "      border-color: transparent;\n",
              "      border-right-color: var(--fill-color);\n",
              "      border-bottom-color: var(--fill-color);\n",
              "    }\n",
              "    90% {\n",
              "      border-color: transparent;\n",
              "      border-bottom-color: var(--fill-color);\n",
              "    }\n",
              "  }\n",
              "</style>\n",
              "\n",
              "      <script>\n",
              "        async function quickchart(key) {\n",
              "          const quickchartButtonEl =\n",
              "            document.querySelector('#' + key + ' button');\n",
              "          quickchartButtonEl.disabled = true;  // To prevent multiple clicks.\n",
              "          quickchartButtonEl.classList.add('colab-df-spinner');\n",
              "          try {\n",
              "            const charts = await google.colab.kernel.invokeFunction(\n",
              "                'suggestCharts', [key], {});\n",
              "          } catch (error) {\n",
              "            console.error('Error during call to suggestCharts:', error);\n",
              "          }\n",
              "          quickchartButtonEl.classList.remove('colab-df-spinner');\n",
              "          quickchartButtonEl.classList.add('colab-df-quickchart-complete');\n",
              "        }\n",
              "        (() => {\n",
              "          let quickchartButtonEl =\n",
              "            document.querySelector('#df-11485562-c435-4c5b-a5f0-c616fa2876fe button');\n",
              "          quickchartButtonEl.style.display =\n",
              "            google.colab.kernel.accessAllowed ? 'block' : 'none';\n",
              "        })();\n",
              "      </script>\n",
              "    </div>\n",
              "\n",
              "  <div id=\"id_284b281a-f881-4c66-8979-74d746e226df\">\n",
              "    <style>\n",
              "      .colab-df-generate {\n",
              "        background-color: #E8F0FE;\n",
              "        border: none;\n",
              "        border-radius: 50%;\n",
              "        cursor: pointer;\n",
              "        display: none;\n",
              "        fill: #1967D2;\n",
              "        height: 32px;\n",
              "        padding: 0 0 0 0;\n",
              "        width: 32px;\n",
              "      }\n",
              "\n",
              "      .colab-df-generate:hover {\n",
              "        background-color: #E2EBFA;\n",
              "        box-shadow: 0px 1px 2px rgba(60, 64, 67, 0.3), 0px 1px 3px 1px rgba(60, 64, 67, 0.15);\n",
              "        fill: #174EA6;\n",
              "      }\n",
              "\n",
              "      [theme=dark] .colab-df-generate {\n",
              "        background-color: #3B4455;\n",
              "        fill: #D2E3FC;\n",
              "      }\n",
              "\n",
              "      [theme=dark] .colab-df-generate:hover {\n",
              "        background-color: #434B5C;\n",
              "        box-shadow: 0px 1px 3px 1px rgba(0, 0, 0, 0.15);\n",
              "        filter: drop-shadow(0px 1px 2px rgba(0, 0, 0, 0.3));\n",
              "        fill: #FFFFFF;\n",
              "      }\n",
              "    </style>\n",
              "    <button class=\"colab-df-generate\" onclick=\"generateWithVariable('grand_results')\"\n",
              "            title=\"Generate code using this dataframe.\"\n",
              "            style=\"display:none;\">\n",
              "\n",
              "  <svg xmlns=\"http://www.w3.org/2000/svg\" height=\"24px\"viewBox=\"0 0 24 24\"\n",
              "       width=\"24px\">\n",
              "    <path d=\"M7,19H8.4L18.45,9,17,7.55,7,17.6ZM5,21V16.75L18.45,3.32a2,2,0,0,1,2.83,0l1.4,1.43a1.91,1.91,0,0,1,.58,1.4,1.91,1.91,0,0,1-.58,1.4L9.25,21ZM18.45,9,17,7.55Zm-12,3A5.31,5.31,0,0,0,4.9,8.1,5.31,5.31,0,0,0,1,6.5,5.31,5.31,0,0,0,4.9,4.9,5.31,5.31,0,0,0,6.5,1,5.31,5.31,0,0,0,8.1,4.9,5.31,5.31,0,0,0,12,6.5,5.46,5.46,0,0,0,6.5,12Z\"/>\n",
              "  </svg>\n",
              "    </button>\n",
              "    <script>\n",
              "      (() => {\n",
              "      const buttonEl =\n",
              "        document.querySelector('#id_284b281a-f881-4c66-8979-74d746e226df button.colab-df-generate');\n",
              "      buttonEl.style.display =\n",
              "        google.colab.kernel.accessAllowed ? 'block' : 'none';\n",
              "\n",
              "      buttonEl.onclick = () => {\n",
              "        google.colab.notebook.generateWithVariable('grand_results');\n",
              "      }\n",
              "      })();\n",
              "    </script>\n",
              "  </div>\n",
              "\n",
              "    </div>\n",
              "  </div>\n"
            ],
            "application/vnd.google.colaboratory.intrinsic+json": {
              "type": "dataframe",
              "variable_name": "grand_results",
              "summary": "{\n  \"name\": \"grand_results\",\n  \"rows\": 14505,\n  \"fields\": [\n    {\n      \"column\": \"scores_0\",\n      \"properties\": {\n        \"dtype\": \"float32\",\n        \"num_unique_values\": 10,\n        \"samples\": [\n          4.7977495193481445,\n          6.066570281982422,\n          4.587668418884277\n        ],\n        \"semantic_type\": \"\",\n        \"description\": \"\"\n      }\n    },\n    {\n      \"column\": \"scores_1\",\n      \"properties\": {\n        \"dtype\": \"float32\",\n        \"num_unique_values\": 14502,\n        \"samples\": [\n          -0.2308196872472763,\n          3.662017583847046,\n          0.005194216966629028\n        ],\n        \"semantic_type\": \"\",\n        \"description\": \"\"\n      }\n    },\n    {\n      \"column\": \"variable_0\",\n      \"properties\": {\n        \"dtype\": \"number\",\n        \"std\": 4200,\n        \"min\": 375,\n        \"max\": 14349,\n        \"num_unique_values\": 10,\n        \"samples\": [\n          7857,\n          6709,\n          5629\n        ],\n        \"semantic_type\": \"\",\n        \"description\": \"\"\n      }\n    },\n    {\n      \"column\": \"final_score\",\n      \"properties\": {\n        \"dtype\": \"float32\",\n        \"num_unique_values\": 14503,\n        \"samples\": [\n          -1.0575517416000366,\n          20.822017669677734,\n          0.025882000103592873\n        ],\n        \"semantic_type\": \"\",\n        \"description\": \"\"\n      }\n    },\n    {\n      \"column\": \"title\",\n      \"properties\": {\n        \"dtype\": \"string\",\n        \"num_unique_values\": 14230,\n        \"samples\": [\n          \"Mel Gibson\",\n          \"Japanese American\",\n          \"Montana State University - Bozeman\"\n        ],\n        \"semantic_type\": \"\",\n        \"description\": \"\"\n      }\n    },\n    {\n      \"column\": \"is_easy_answer\",\n      \"properties\": {\n        \"dtype\": \"boolean\",\n        \"num_unique_values\": 2,\n        \"samples\": [\n          false,\n          true\n        ],\n        \"semantic_type\": \"\",\n        \"description\": \"\"\n      }\n    },\n    {\n      \"column\": \"is_hard_answer\",\n      \"properties\": {\n        \"dtype\": \"boolean\",\n        \"num_unique_values\": 2,\n        \"samples\": [\n          true,\n          false\n        ],\n        \"semantic_type\": \"\",\n        \"description\": \"\"\n      }\n    },\n    {\n      \"column\": \"variable_title\",\n      \"properties\": {\n        \"dtype\": \"category\",\n        \"num_unique_values\": 10,\n        \"samples\": [\n          \"Easy listening\",\n          \"Popular music\"\n        ],\n        \"semantic_type\": \"\",\n        \"description\": \"\"\n      }\n    }\n  ]\n}"
            }
          },
          "metadata": {},
          "execution_count": 19
        }
      ],
      "source": [
        "grand_results = xcqa.query_execution(query_hard, k=k, coalition=num_atoms*[1], t_norm=t_norm, t_conorm=t_conorm)\n",
        "grand_results['title'] = grand_results.index.map(dataset.get_title_by_id)\n",
        "grand_results['is_easy_answer'] = grand_results.index.isin(easy_answers)\n",
        "grand_results['is_hard_answer'] = grand_results.index.isin(query_hard.get_answer())\n",
        "grand_results['variable_title'] = grand_results['variable_0'].map(dataset.get_title_by_id)\n",
        "grand_results"
      ]
    },
    {
      "cell_type": "markdown",
      "metadata": {
        "id": "3O9ey6WQfadF"
      },
      "source": [
        "We can compute the rank of an answer using the `compute_rank` function."
      ]
    },
    {
      "cell_type": "code",
      "execution_count": 20,
      "metadata": {
        "colab": {
          "base_uri": "https://localhost:8080/"
        },
        "id": "RZ0gV1PvuyIr",
        "outputId": "ff9b40fe-435f-4cb2-87ab-391f72d6e745"
      },
      "outputs": [
        {
          "output_type": "stream",
          "name": "stdout",
          "text": [
            "Rank 16: 6073 (Bill Wyman | Swing music)\n",
            "Rank 25: 2592 (Miles Davis | Jazz)\n",
            "Rank 33: 3896 (Ringo Sheena | Big band)\n",
            "Rank 34: 4406 (Natalie Cole | Traditional pop music)\n",
            "Rank 44: 10596 (Bill Evans | Jazz)\n",
            "Rank 92: 3779 (Chris Thile | Jazz)\n",
            "Rank 148: 9566 (Joss Stone | Pop music)\n",
            "Rank 163: 3128 (Amanda Lear | Pop music)\n",
            "Rank 176: 9866 (Toni Braxton | Pop music)\n",
            "Rank 202: 1000 (Corinne Bailey Rae | Jazz)\n",
            "Rank 308: 7157 (Ray Manzarek | Jazz)\n",
            "Rank 367: 5118 (Tom Waits | Jazz)\n"
          ]
        }
      ],
      "source": [
        "rankings = {}\n",
        "for answer in hard_answers:\n",
        "    rank = compute_rank(grand_results, all_answers, answer)\n",
        "    rankings[answer] = rank\n",
        "rankings = dict(sorted(rankings.items(), key=lambda item: item[1]))\n",
        "for answer, rank in rankings.items():\n",
        "    answer_title = dataset.get_title_by_id(answer)\n",
        "    variable_title = dataset.get_title_by_id(grand_results.loc[answer]['variable_0'])\n",
        "    print(f\"Rank {rank}: {answer} ({answer_title} | {variable_title})\")"
      ]
    },
    {
      "cell_type": "markdown",
      "metadata": {
        "id": "xEw4OkR-fadF"
      },
      "source": [
        "To compute shapley values for each atom and a target answer, we can use `shapley_value` function as follows:"
      ]
    },
    {
      "cell_type": "code",
      "execution_count": 21,
      "metadata": {
        "colab": {
          "base_uri": "https://localhost:8080/"
        },
        "id": "Mb5IjDPov2N5",
        "outputId": "a8b1f4e9-d287-466b-9573-11510ad5c762"
      },
      "outputs": [
        {
          "output_type": "stream",
          "name": "stdout",
          "text": [
            "Computing shapley values for entity 2592 (Miles Davis)\n",
            "Shapley value of atom 0: -14.0\n",
            "Shapley value of atom 1: 7595.0\n"
          ]
        }
      ],
      "source": [
        "target = target1\n",
        "print(f\"Computing shapley values for entity {target} ({dataset.get_title_by_id(target)})\")\n",
        "for atom in range(num_atoms):\n",
        "    filtered_exclude = all_answers - {target}\n",
        "    sv = shapley_value(xcqa, query_hard, atom, filtered_exclude, target, \"rank\", k, t_norm, t_conorm)\n",
        "    print(f\"Shapley value of atom {atom}: {sv}\")"
      ]
    },
    {
      "cell_type": "code",
      "execution_count": 22,
      "metadata": {
        "colab": {
          "base_uri": "https://localhost:8080/"
        },
        "id": "fRtsJsAdwRdn",
        "outputId": "950b7f04-38ac-4d17-e395-ae9836fceabb"
      },
      "outputs": [
        {
          "output_type": "stream",
          "name": "stdout",
          "text": [
            "Computing shapley values for entity 10596 (Bill Evans)\n",
            "Shapley value of atom 0: -95.5\n",
            "Shapley value of atom 1: 973.5\n"
          ]
        }
      ],
      "source": [
        "target = target2\n",
        "print(f\"Computing shapley values for entity {target} ({dataset.get_title_by_id(target)})\")\n",
        "for atom in range(num_atoms):\n",
        "    filtered_exclude = all_answers - {target}\n",
        "    sv = shapley_value(xcqa, query_hard, atom, filtered_exclude, target, \"rank\", k, t_norm, t_conorm)\n",
        "    print(f\"Shapley value of atom {atom}: {sv}\")"
      ]
    },
    {
      "cell_type": "code",
      "source": [],
      "metadata": {
        "id": "cFEPtnFgOF0H"
      },
      "execution_count": null,
      "outputs": []
    }
  ],
  "metadata": {
    "accelerator": "GPU",
    "colab": {
      "gpuType": "T4",
      "provenance": [],
      "include_colab_link": true
    },
    "kernelspec": {
      "display_name": "Python 3",
      "name": "python3"
    },
    "language_info": {
      "name": "python"
    }
  },
  "nbformat": 4,
  "nbformat_minor": 0
}